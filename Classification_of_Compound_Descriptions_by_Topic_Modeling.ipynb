{
 "cells": [
  {
   "cell_type": "code",
   "execution_count": 2,
   "id": "6f645274-3d8d-478f-b224-84c4ceae1903",
   "metadata": {},
   "outputs": [],
   "source": [
    "import pandas as pd\n",
    "from tqdm import tqdm\n",
    "from tqdm import tqdm_notebook\n",
    "import shutup; shutup.please()"
   ]
  },
  {
   "cell_type": "code",
   "execution_count": 3,
   "id": "24840297-8bb8-4151-bfad-a4dce9eefcc0",
   "metadata": {},
   "outputs": [],
   "source": [
    "data = pd.read_csv('./cmpd_descriptions.csv')"
   ]
  },
  {
   "cell_type": "code",
   "execution_count": 5,
   "id": "70b0188a-dad9-42f2-9c45-1c86c7007111",
   "metadata": {},
   "outputs": [
    {
     "data": {
      "text/html": [
       "<div>\n",
       "<style scoped>\n",
       "    .dataframe tbody tr th:only-of-type {\n",
       "        vertical-align: middle;\n",
       "    }\n",
       "\n",
       "    .dataframe tbody tr th {\n",
       "        vertical-align: top;\n",
       "    }\n",
       "\n",
       "    .dataframe thead th {\n",
       "        text-align: right;\n",
       "    }\n",
       "</style>\n",
       "<table border=\"1\" class=\"dataframe\">\n",
       "  <thead>\n",
       "    <tr style=\"text-align: right;\">\n",
       "      <th></th>\n",
       "      <th>Unnamed: 0</th>\n",
       "      <th>CID</th>\n",
       "      <th>Description</th>\n",
       "    </tr>\n",
       "  </thead>\n",
       "  <tbody>\n",
       "    <tr>\n",
       "      <th>0</th>\n",
       "      <td>0</td>\n",
       "      <td>1697</td>\n",
       "      <td>4,5-dianilinophthalimide is phthalimide substituted at the 4- and 5-positions by anilino groups. It has a role as a tyrosine kinase inhibitor and a geroprotector.</td>\n",
       "    </tr>\n",
       "    <tr>\n",
       "      <th>1</th>\n",
       "      <td>1</td>\n",
       "      <td>755673</td>\n",
       "      <td>7-hydroxy-2,3,4,5-tetrahydrobenzofuro[2,3-c]azepin-1-one is a member of benzofurans.</td>\n",
       "    </tr>\n",
       "    <tr>\n",
       "      <th>2</th>\n",
       "      <td>2</td>\n",
       "      <td>15160711</td>\n",
       "      <td>Ovalitenin B is a butanone.</td>\n",
       "    </tr>\n",
       "    <tr>\n",
       "      <th>3</th>\n",
       "      <td>3</td>\n",
       "      <td>176870</td>\n",
       "      <td>Erlotinib is a quinazoline compound having a (3-ethynylphenyl)amino group at the 4-position and two 2-methoxyethoxy groups at the 6- and 7-positions. It has a role as an antineoplastic agent, a protein kinase inhibitor and an epidermal growth factor receptor antagonist. It is a member of quinazolines, a terminal acetylenic compound, an aromatic ether and a secondary amino compound.</td>\n",
       "    </tr>\n",
       "    <tr>\n",
       "      <th>4</th>\n",
       "      <td>4</td>\n",
       "      <td>656344</td>\n",
       "      <td>2-[[5-(4-methylphenyl)-1,3,4-oxadiazol-2-yl]thio]-1-(4-phenyl-1-piperazinyl)ethanone is a member of piperazines.</td>\n",
       "    </tr>\n",
       "  </tbody>\n",
       "</table>\n",
       "</div>"
      ],
      "text/plain": [
       "   Unnamed: 0       CID  \\\n",
       "0           0      1697   \n",
       "1           1    755673   \n",
       "2           2  15160711   \n",
       "3           3    176870   \n",
       "4           4    656344   \n",
       "\n",
       "                                                                                                                                                                                                                                                                                                                                                                                        Description  \n",
       "0                                                                                                                                                                                                                                4,5-dianilinophthalimide is phthalimide substituted at the 4- and 5-positions by anilino groups. It has a role as a tyrosine kinase inhibitor and a geroprotector.  \n",
       "1                                                                                                                                                                                                                                                                                                              7-hydroxy-2,3,4,5-tetrahydrobenzofuro[2,3-c]azepin-1-one is a member of benzofurans.  \n",
       "2                                                                                                                                                                                                                                                                                                                                                                       Ovalitenin B is a butanone.  \n",
       "3  Erlotinib is a quinazoline compound having a (3-ethynylphenyl)amino group at the 4-position and two 2-methoxyethoxy groups at the 6- and 7-positions. It has a role as an antineoplastic agent, a protein kinase inhibitor and an epidermal growth factor receptor antagonist. It is a member of quinazolines, a terminal acetylenic compound, an aromatic ether and a secondary amino compound.  \n",
       "4                                                                                                                                                                                                                                                                                  2-[[5-(4-methylphenyl)-1,3,4-oxadiazol-2-yl]thio]-1-(4-phenyl-1-piperazinyl)ethanone is a member of piperazines.  "
      ]
     },
     "execution_count": 5,
     "metadata": {},
     "output_type": "execute_result"
    }
   ],
   "source": [
    "pd.set_option('max_colwidth', None)\n",
    "data.head()"
   ]
  },
  {
   "cell_type": "code",
   "execution_count": 6,
   "id": "659a0675-9b6f-4a29-b240-bc999f2c33fe",
   "metadata": {},
   "outputs": [
    {
     "data": {
      "text/plain": [
       "(4095, 3)"
      ]
     },
     "execution_count": 6,
     "metadata": {},
     "output_type": "execute_result"
    }
   ],
   "source": [
    "data.shape"
   ]
  },
  {
   "cell_type": "markdown",
   "id": "d875411c-1d49-4a7f-ae97-e2dabf9bbb8e",
   "metadata": {},
   "source": [
    "# Preprocessing of texts for topic modeling by LDA"
   ]
  },
  {
   "cell_type": "code",
   "execution_count": 20,
   "id": "74a87493-409d-42ad-96d8-11620e6bcc63",
   "metadata": {},
   "outputs": [
    {
     "name": "stderr",
     "output_type": "stream",
     "text": [
      "[nltk_data] Downloading package stopwords to\n",
      "[nltk_data]     /home/ivanikova/nltk_data...\n",
      "[nltk_data]   Package stopwords is already up-to-date!\n"
     ]
    },
    {
     "data": {
      "text/plain": [
       "True"
      ]
     },
     "execution_count": 20,
     "metadata": {},
     "output_type": "execute_result"
    }
   ],
   "source": [
    "word_tokenizer = nltk.WordPunctTokenizer()\n",
    "nltk.download('stopwords')"
   ]
  },
  {
   "cell_type": "code",
   "execution_count": 21,
   "id": "24ed65f1-08f7-45f2-8ab3-e918d61dcf81",
   "metadata": {},
   "outputs": [],
   "source": [
    "stop_words = nltk.corpus.stopwords.words('english')"
   ]
  },
  {
   "cell_type": "code",
   "execution_count": 69,
   "id": "344c5979-8794-43c5-a878-1bdc136ef03b",
   "metadata": {},
   "outputs": [],
   "source": [
    "# adding custom stop words for compound descriptions\n",
    "text_file = open('./custom_stop_words.txt', 'r')\n",
    "custom_stop_words = text_file.read().split(',')"
   ]
  },
  {
   "cell_type": "code",
   "execution_count": 70,
   "id": "93597746-704a-469e-ba8e-88d56caa5a2a",
   "metadata": {},
   "outputs": [
    {
     "data": {
      "text/plain": [
       "['is', ' has', ' it', ' thus', ' therefore']"
      ]
     },
     "execution_count": 70,
     "metadata": {},
     "output_type": "execute_result"
    }
   ],
   "source": [
    "custom_stop_words[:5]"
   ]
  },
  {
   "cell_type": "code",
   "execution_count": 71,
   "id": "0aab186f-3fb4-4b5b-8819-e457ba41a7cd",
   "metadata": {},
   "outputs": [],
   "source": [
    "all_stop_words = stop_words + custom_stop_words"
   ]
  },
  {
   "cell_type": "code",
   "execution_count": null,
   "id": "78eee04e-6351-4515-8a61-738e15d97e4c",
   "metadata": {},
   "outputs": [],
   "source": [
    "import re"
   ]
  },
  {
   "cell_type": "code",
   "execution_count": 25,
   "id": "d449d48f-fe62-4efc-9da7-1eb7f53e8024",
   "metadata": {},
   "outputs": [],
   "source": [
    "regex = re.compile(r'[a-zA-Z]+')\n",
    "def words_only(text, regex=regex):\n",
    "    try:\n",
    "        return \" \".join(regex.findall(text)).lower()\n",
    "    except:\n",
    "        return \"\""
   ]
  },
  {
   "cell_type": "code",
   "execution_count": 26,
   "id": "299b110d-8249-4aa1-b976-b501ebdebe58",
   "metadata": {},
   "outputs": [],
   "source": [
    "def process_data(data):\n",
    "    texts = []\n",
    "    for index, row in tqdm(data.iterrows(), total=len(data)):\n",
    "        text_lower = words_only(row['Description'])\n",
    "        tokens = word_tokenizer.tokenize(text_lower)\n",
    "        tokens = [word for word in tokens if (word not in all_stop_words and not word.isnumeric())]\n",
    "        texts.append(tokens)\n",
    "    return texts"
   ]
  },
  {
   "cell_type": "code",
   "execution_count": 64,
   "id": "bba4e184-1331-45bf-894e-6bb3f08343c2",
   "metadata": {},
   "outputs": [
    {
     "name": "stderr",
     "output_type": "stream",
     "text": [
      "100%|█████████████████████████████████████████████████████████████████████████████| 4095/4095 [00:00<00:00, 7799.98it/s]\n"
     ]
    }
   ],
   "source": [
    "texts = process_data(data)"
   ]
  },
  {
   "cell_type": "code",
   "execution_count": 55,
   "id": "750dde82-f785-49b2-a81d-98e268303582",
   "metadata": {},
   "outputs": [],
   "source": [
    "import nltk\n",
    "from nltk.stem.snowball import SnowballStemmer"
   ]
  },
  {
   "cell_type": "code",
   "execution_count": 56,
   "id": "f014ed03-94fb-4b7e-88ef-a8aa6fabbe92",
   "metadata": {},
   "outputs": [],
   "source": [
    "stemmer = SnowballStemmer('english')"
   ]
  },
  {
   "cell_type": "code",
   "execution_count": 72,
   "id": "7a86360a-3663-4452-89cd-4cccecc9018d",
   "metadata": {},
   "outputs": [],
   "source": [
    "for i in range(len(texts)):\n",
    "    text_stemmed = [stemmer.stem(x) for x in texts[i]]\n",
    "    texts[i] = text_stemmed"
   ]
  },
  {
   "cell_type": "markdown",
   "id": "248ed861-e00a-45b9-8bcd-ca3a30658a3a",
   "metadata": {},
   "source": [
    "# Topic modeling by LDA "
   ]
  },
  {
   "cell_type": "code",
   "execution_count": 31,
   "id": "e006dc71-933a-4475-9ab8-fe43dc789249",
   "metadata": {},
   "outputs": [],
   "source": [
    "from gensim.models import *\n",
    "from gensim import corpora"
   ]
  },
  {
   "cell_type": "code",
   "execution_count": 73,
   "id": "70ba1fdd-7952-4347-823e-ca508084fb49",
   "metadata": {},
   "outputs": [
    {
     "name": "stdout",
     "output_type": "stream",
     "text": [
      "Original: Dictionary<7117 unique tokens: ['anilino', 'dianilinophthalimid', 'geroprotector', 'group', 'inhibitor']...>\n",
      "Filtered: Dictionary<2880 unique tokens: ['anilino', 'geroprotector', 'group', 'inhibitor', 'kina']...>\n"
     ]
    }
   ],
   "source": [
    "dictionary = corpora.Dictionary(texts)\n",
    "print('Original: {}'.format(dictionary))\n",
    "dictionary.filter_extremes(no_below = 2, keep_n=None)\n",
    "dictionary.save('descriptions.dict')\n",
    "print('Filtered: {}'.format(dictionary))\n",
    "corpus = [dictionary.doc2bow(text) for text in texts]\n",
    "corpora.MmCorpus.serialize('descriptions.model', corpus) "
   ]
  },
  {
   "cell_type": "code",
   "execution_count": 84,
   "id": "3d15bea3-d196-4401-b059-44d834dc9a70",
   "metadata": {},
   "outputs": [],
   "source": [
    "lda_model = ldamodel.LdaModel(corpus, id2word=dictionary, num_topics = 3, chunksize=50, update_every=1, passes=10, per_word_topics=True)"
   ]
  },
  {
   "cell_type": "code",
   "execution_count": 85,
   "id": "a9141b1d-8621-49e0-8094-9409353912b8",
   "metadata": {},
   "outputs": [
    {
     "data": {
      "text/plain": [
       "[(0,\n",
       "  [('agent', 0.037135173),\n",
       "   ('group', 0.036099948),\n",
       "   ('role', 0.034600955),\n",
       "   ('member', 0.031554304),\n",
       "   ('inhibitor', 0.028787829),\n",
       "   ('posit', 0.02724963),\n",
       "   ('compound', 0.021645103),\n",
       "   ('drug', 0.018227583),\n",
       "   ('substitut', 0.018017067),\n",
       "   ('use', 0.015712477),\n",
       "   ('ec', 0.015512313),\n",
       "   ('class', 0.013302829),\n",
       "   ('antagonist', 0.01316792),\n",
       "   ('amino', 0.010440581),\n",
       "   ('anti', 0.0092367735)]),\n",
       " (1,\n",
       "  [('acid', 0.1350727),\n",
       "   ('metabolit', 0.043351624),\n",
       "   ('role', 0.03286594),\n",
       "   ('group', 0.028795455),\n",
       "   ('amino', 0.020485636),\n",
       "   ('function', 0.020466657),\n",
       "   ('relat', 0.020207193),\n",
       "   ('posit', 0.019174732),\n",
       "   ('conjug', 0.019113919),\n",
       "   ('ester', 0.014794956),\n",
       "   ('plant', 0.013659264),\n",
       "   ('human', 0.012747456),\n",
       "   ('hydroxi', 0.012588059),\n",
       "   ('monocarboxyl', 0.010758045),\n",
       "   ('methyl', 0.010550005)]),\n",
       " (2,\n",
       "  [('member', 0.08025469),\n",
       "   ('n', 0.054545607),\n",
       "   ('yl', 0.042841658),\n",
       "   ('methyl', 0.035115443),\n",
       "   ('h', 0.029372092),\n",
       "   ('phenyl', 0.020295324),\n",
       "   ('amino', 0.016390618),\n",
       "   ('aromat', 0.01636458),\n",
       "   ('compound', 0.0142364325),\n",
       "   ('ethyl', 0.013702956),\n",
       "   ('amid', 0.012404883),\n",
       "   ('benzamid', 0.011745433),\n",
       "   ('oxo', 0.010579234),\n",
       "   ('one', 0.010202462),\n",
       "   ('dimethyl', 0.008570755)])]"
      ]
     },
     "execution_count": 85,
     "metadata": {},
     "output_type": "execute_result"
    }
   ],
   "source": [
    "lda_model.show_topics(num_words=15, formatted = False)"
   ]
  },
  {
   "cell_type": "markdown",
   "id": "c9e3ffd2-51a9-4ecd-8ece-cab03baa4e8e",
   "metadata": {},
   "source": [
    "# Assigning dominant topics to descriptions as clasification labels"
   ]
  },
  {
   "cell_type": "code",
   "execution_count": 78,
   "id": "815da888-a98a-4197-be74-55a8fc079898",
   "metadata": {},
   "outputs": [],
   "source": [
    "def format_topics_sent(ldamodel, corpus, texts):\n",
    "    sent_topics_df = pd.DataFrame()\n",
    "    for i, row in enumerate(ldamodel[corpus]):\n",
    "        row = sorted(row[0], key=lambda x: x[1], reverse=True)\n",
    "        \n",
    "        for j, (topic_num, prop_topic) in enumerate(row):\n",
    "            if j == 0:\n",
    "                wp = ldamodel.show_topic(topic_num)\n",
    "                topic_keywords = \", \".join([word for word, prop in wp])\n",
    "                sent_topics_df = sent_topics_df._append(pd.Series([int(topic_num), round(prop_topic,4), topic_keywords]), ignore_index=True)\n",
    "            else:\n",
    "                break\n",
    "    sent_topics_df.columns = ['Dominant_topic', 'Perc_Contrib', 'Topic_Keywords']\n",
    "    contents = pd.Series(texts)\n",
    "    sent_topics_df = pd.concat([sent_topics_df, contents], axis=1)\n",
    "    sent_topics_df.rename(columns={0: \"Text\"}, inplace=True)\n",
    "    return sent_topics_df"
   ]
  },
  {
   "cell_type": "code",
   "execution_count": 90,
   "id": "3462fffd-c138-4dc1-a740-e0f63a9be878",
   "metadata": {},
   "outputs": [
    {
     "data": {
      "text/html": [
       "<div>\n",
       "<style scoped>\n",
       "    .dataframe tbody tr th:only-of-type {\n",
       "        vertical-align: middle;\n",
       "    }\n",
       "\n",
       "    .dataframe tbody tr th {\n",
       "        vertical-align: top;\n",
       "    }\n",
       "\n",
       "    .dataframe thead th {\n",
       "        text-align: right;\n",
       "    }\n",
       "</style>\n",
       "<table border=\"1\" class=\"dataframe\">\n",
       "  <thead>\n",
       "    <tr style=\"text-align: right;\">\n",
       "      <th></th>\n",
       "      <th>Dominant_topic</th>\n",
       "      <th>Perc_Contrib</th>\n",
       "      <th>Topic_Keywords</th>\n",
       "      <th>Text</th>\n",
       "    </tr>\n",
       "  </thead>\n",
       "  <tbody>\n",
       "    <tr>\n",
       "      <th>0</th>\n",
       "      <td>0</td>\n",
       "      <td>0.7578</td>\n",
       "      <td>agent, group, role, member, inhibitor, posit, compound, drug, substitut, use</td>\n",
       "      <td>[dianilinophthalimid, phthalimid, substitut, posit, anilino, group, role, tyrosin, kina, inhibitor, geroprotector]</td>\n",
       "    </tr>\n",
       "    <tr>\n",
       "      <th>1</th>\n",
       "      <td>2</td>\n",
       "      <td>0.8957</td>\n",
       "      <td>member, n, yl, methyl, h, phenyl, amino, aromat, compound, ethyl</td>\n",
       "      <td>[hydroxi, tetrahydrobenzofuro, c, azepin, one, member, benzofuran]</td>\n",
       "    </tr>\n",
       "    <tr>\n",
       "      <th>2</th>\n",
       "      <td>2</td>\n",
       "      <td>0.7758</td>\n",
       "      <td>member, n, yl, methyl, h, phenyl, amino, aromat, compound, ethyl</td>\n",
       "      <td>[ovalitenin, b, butanon]</td>\n",
       "    </tr>\n",
       "    <tr>\n",
       "      <th>3</th>\n",
       "      <td>0</td>\n",
       "      <td>0.9758</td>\n",
       "      <td>agent, group, role, member, inhibitor, posit, compound, drug, substitut, use</td>\n",
       "      <td>[erlotinib, quinazolin, compound, ethynylphenyl, amino, group, posit, two, methoxyethoxi, group, posit, role, antineoplast, agent, protein, kina, inhibitor, epiderm, growth, factor, receptor, antagonist, member, quinazolin, termin, acetylen, compound, aromat, ether, secondari, amino, compound]</td>\n",
       "    </tr>\n",
       "    <tr>\n",
       "      <th>4</th>\n",
       "      <td>2</td>\n",
       "      <td>0.9331</td>\n",
       "      <td>member, n, yl, methyl, h, phenyl, amino, aromat, compound, ethyl</td>\n",
       "      <td>[methylphenyl, oxadiazol, yl, thio, phenyl, piperazinyl, ethanon, member, piperazin]</td>\n",
       "    </tr>\n",
       "  </tbody>\n",
       "</table>\n",
       "</div>"
      ],
      "text/plain": [
       "   Dominant_topic  Perc_Contrib  \\\n",
       "0               0        0.7578   \n",
       "1               2        0.8957   \n",
       "2               2        0.7758   \n",
       "3               0        0.9758   \n",
       "4               2        0.9331   \n",
       "\n",
       "                                                                 Topic_Keywords  \\\n",
       "0  agent, group, role, member, inhibitor, posit, compound, drug, substitut, use   \n",
       "1              member, n, yl, methyl, h, phenyl, amino, aromat, compound, ethyl   \n",
       "2              member, n, yl, methyl, h, phenyl, amino, aromat, compound, ethyl   \n",
       "3  agent, group, role, member, inhibitor, posit, compound, drug, substitut, use   \n",
       "4              member, n, yl, methyl, h, phenyl, amino, aromat, compound, ethyl   \n",
       "\n",
       "                                                                                                                                                                                                                                                                                                     Text  \n",
       "0                                                                                                                                                                                      [dianilinophthalimid, phthalimid, substitut, posit, anilino, group, role, tyrosin, kina, inhibitor, geroprotector]  \n",
       "1                                                                                                                                                                                                                                      [hydroxi, tetrahydrobenzofuro, c, azepin, one, member, benzofuran]  \n",
       "2                                                                                                                                                                                                                                                                                [ovalitenin, b, butanon]  \n",
       "3  [erlotinib, quinazolin, compound, ethynylphenyl, amino, group, posit, two, methoxyethoxi, group, posit, role, antineoplast, agent, protein, kina, inhibitor, epiderm, growth, factor, receptor, antagonist, member, quinazolin, termin, acetylen, compound, aromat, ether, secondari, amino, compound]  \n",
       "4                                                                                                                                                                                                                    [methylphenyl, oxadiazol, yl, thio, phenyl, piperazinyl, ethanon, member, piperazin]  "
      ]
     },
     "execution_count": 90,
     "metadata": {},
     "output_type": "execute_result"
    }
   ],
   "source": [
    "sent_topics = format_topics_sent(lda_model, corpus, texts)\n",
    "sent_topics.head()"
   ]
  },
  {
   "cell_type": "code",
   "execution_count": 95,
   "id": "ec92b4dc-0bdb-437c-8a33-53b72f8617c9",
   "metadata": {},
   "outputs": [
    {
     "data": {
      "text/html": [
       "<div>\n",
       "<style scoped>\n",
       "    .dataframe tbody tr th:only-of-type {\n",
       "        vertical-align: middle;\n",
       "    }\n",
       "\n",
       "    .dataframe tbody tr th {\n",
       "        vertical-align: top;\n",
       "    }\n",
       "\n",
       "    .dataframe thead th {\n",
       "        text-align: right;\n",
       "    }\n",
       "</style>\n",
       "<table border=\"1\" class=\"dataframe\">\n",
       "  <thead>\n",
       "    <tr style=\"text-align: right;\">\n",
       "      <th></th>\n",
       "      <th>Unnamed: 0</th>\n",
       "      <th>CID</th>\n",
       "      <th>Description</th>\n",
       "      <th>Dominant_topic</th>\n",
       "      <th>Perc_Contrib</th>\n",
       "      <th>Topic_Keywords</th>\n",
       "      <th>Text</th>\n",
       "    </tr>\n",
       "  </thead>\n",
       "  <tbody>\n",
       "    <tr>\n",
       "      <th>0</th>\n",
       "      <td>0</td>\n",
       "      <td>1697</td>\n",
       "      <td>4,5-dianilinophthalimide is phthalimide substituted at the 4- and 5-positions by anilino groups. It has a role as a tyrosine kinase inhibitor and a geroprotector.</td>\n",
       "      <td>Drug</td>\n",
       "      <td>0.7578</td>\n",
       "      <td>agent, group, role, member, inhibitor, posit, compound, drug, substitut, use</td>\n",
       "      <td>[dianilinophthalimid, phthalimid, substitut, posit, anilino, group, role, tyrosin, kina, inhibitor, geroprotector]</td>\n",
       "    </tr>\n",
       "    <tr>\n",
       "      <th>1</th>\n",
       "      <td>1</td>\n",
       "      <td>755673</td>\n",
       "      <td>7-hydroxy-2,3,4,5-tetrahydrobenzofuro[2,3-c]azepin-1-one is a member of benzofurans.</td>\n",
       "      <td>No annotation</td>\n",
       "      <td>0.8957</td>\n",
       "      <td>member, n, yl, methyl, h, phenyl, amino, aromat, compound, ethyl</td>\n",
       "      <td>[hydroxi, tetrahydrobenzofuro, c, azepin, one, member, benzofuran]</td>\n",
       "    </tr>\n",
       "    <tr>\n",
       "      <th>2</th>\n",
       "      <td>2</td>\n",
       "      <td>15160711</td>\n",
       "      <td>Ovalitenin B is a butanone.</td>\n",
       "      <td>No annotation</td>\n",
       "      <td>0.7758</td>\n",
       "      <td>member, n, yl, methyl, h, phenyl, amino, aromat, compound, ethyl</td>\n",
       "      <td>[ovalitenin, b, butanon]</td>\n",
       "    </tr>\n",
       "    <tr>\n",
       "      <th>3</th>\n",
       "      <td>3</td>\n",
       "      <td>176870</td>\n",
       "      <td>Erlotinib is a quinazoline compound having a (3-ethynylphenyl)amino group at the 4-position and two 2-methoxyethoxy groups at the 6- and 7-positions. It has a role as an antineoplastic agent, a protein kinase inhibitor and an epidermal growth factor receptor antagonist. It is a member of quinazolines, a terminal acetylenic compound, an aromatic ether and a secondary amino compound.</td>\n",
       "      <td>Drug</td>\n",
       "      <td>0.9758</td>\n",
       "      <td>agent, group, role, member, inhibitor, posit, compound, drug, substitut, use</td>\n",
       "      <td>[erlotinib, quinazolin, compound, ethynylphenyl, amino, group, posit, two, methoxyethoxi, group, posit, role, antineoplast, agent, protein, kina, inhibitor, epiderm, growth, factor, receptor, antagonist, member, quinazolin, termin, acetylen, compound, aromat, ether, secondari, amino, compound]</td>\n",
       "    </tr>\n",
       "    <tr>\n",
       "      <th>4</th>\n",
       "      <td>4</td>\n",
       "      <td>656344</td>\n",
       "      <td>2-[[5-(4-methylphenyl)-1,3,4-oxadiazol-2-yl]thio]-1-(4-phenyl-1-piperazinyl)ethanone is a member of piperazines.</td>\n",
       "      <td>No annotation</td>\n",
       "      <td>0.9331</td>\n",
       "      <td>member, n, yl, methyl, h, phenyl, amino, aromat, compound, ethyl</td>\n",
       "      <td>[methylphenyl, oxadiazol, yl, thio, phenyl, piperazinyl, ethanon, member, piperazin]</td>\n",
       "    </tr>\n",
       "  </tbody>\n",
       "</table>\n",
       "</div>"
      ],
      "text/plain": [
       "   Unnamed: 0       CID  \\\n",
       "0           0      1697   \n",
       "1           1    755673   \n",
       "2           2  15160711   \n",
       "3           3    176870   \n",
       "4           4    656344   \n",
       "\n",
       "                                                                                                                                                                                                                                                                                                                                                                                        Description  \\\n",
       "0                                                                                                                                                                                                                                4,5-dianilinophthalimide is phthalimide substituted at the 4- and 5-positions by anilino groups. It has a role as a tyrosine kinase inhibitor and a geroprotector.   \n",
       "1                                                                                                                                                                                                                                                                                                              7-hydroxy-2,3,4,5-tetrahydrobenzofuro[2,3-c]azepin-1-one is a member of benzofurans.   \n",
       "2                                                                                                                                                                                                                                                                                                                                                                       Ovalitenin B is a butanone.   \n",
       "3  Erlotinib is a quinazoline compound having a (3-ethynylphenyl)amino group at the 4-position and two 2-methoxyethoxy groups at the 6- and 7-positions. It has a role as an antineoplastic agent, a protein kinase inhibitor and an epidermal growth factor receptor antagonist. It is a member of quinazolines, a terminal acetylenic compound, an aromatic ether and a secondary amino compound.   \n",
       "4                                                                                                                                                                                                                                                                                  2-[[5-(4-methylphenyl)-1,3,4-oxadiazol-2-yl]thio]-1-(4-phenyl-1-piperazinyl)ethanone is a member of piperazines.   \n",
       "\n",
       "  Dominant_topic  Perc_Contrib  \\\n",
       "0           Drug        0.7578   \n",
       "1  No annotation        0.8957   \n",
       "2  No annotation        0.7758   \n",
       "3           Drug        0.9758   \n",
       "4  No annotation        0.9331   \n",
       "\n",
       "                                                                 Topic_Keywords  \\\n",
       "0  agent, group, role, member, inhibitor, posit, compound, drug, substitut, use   \n",
       "1              member, n, yl, methyl, h, phenyl, amino, aromat, compound, ethyl   \n",
       "2              member, n, yl, methyl, h, phenyl, amino, aromat, compound, ethyl   \n",
       "3  agent, group, role, member, inhibitor, posit, compound, drug, substitut, use   \n",
       "4              member, n, yl, methyl, h, phenyl, amino, aromat, compound, ethyl   \n",
       "\n",
       "                                                                                                                                                                                                                                                                                                     Text  \n",
       "0                                                                                                                                                                                      [dianilinophthalimid, phthalimid, substitut, posit, anilino, group, role, tyrosin, kina, inhibitor, geroprotector]  \n",
       "1                                                                                                                                                                                                                                      [hydroxi, tetrahydrobenzofuro, c, azepin, one, member, benzofuran]  \n",
       "2                                                                                                                                                                                                                                                                                [ovalitenin, b, butanon]  \n",
       "3  [erlotinib, quinazolin, compound, ethynylphenyl, amino, group, posit, two, methoxyethoxi, group, posit, role, antineoplast, agent, protein, kina, inhibitor, epiderm, growth, factor, receptor, antagonist, member, quinazolin, termin, acetylen, compound, aromat, ether, secondari, amino, compound]  \n",
       "4                                                                                                                                                                                                                    [methylphenyl, oxadiazol, yl, thio, phenyl, piperazinyl, ethanon, member, piperazin]  "
      ]
     },
     "execution_count": 95,
     "metadata": {},
     "output_type": "execute_result"
    }
   ],
   "source": [
    "topic_modeling_desc_labels = pd.merge(data, sent_topics, left_index=True, right_index=True)\n",
    "topic_modeling_desc_labels.Dominant_topic = topic_modeling_desc_labels.Dominant_topic.map({0: 'Drug', 1: 'Metabolite', 2: 'No annotation'})\n",
    "topic_modeling_desc_labels.head()"
   ]
  },
  {
   "cell_type": "code",
   "execution_count": 96,
   "id": "30b13696-0632-4a59-926d-acbad53c7a90",
   "metadata": {},
   "outputs": [],
   "source": [
    "topic_modeling_desc_labels.to_csv('./description_classification.csv')"
   ]
  },
  {
   "cell_type": "code",
   "execution_count": null,
   "id": "683890cf-a9d5-461b-80b2-62c707a554e3",
   "metadata": {},
   "outputs": [],
   "source": []
  }
 ],
 "metadata": {
  "kernelspec": {
   "display_name": "Python 3 (ipykernel)",
   "language": "python",
   "name": "python3"
  },
  "language_info": {
   "codemirror_mode": {
    "name": "ipython",
    "version": 3
   },
   "file_extension": ".py",
   "mimetype": "text/x-python",
   "name": "python",
   "nbconvert_exporter": "python",
   "pygments_lexer": "ipython3",
   "version": "3.10.12"
  }
 },
 "nbformat": 4,
 "nbformat_minor": 5
}
