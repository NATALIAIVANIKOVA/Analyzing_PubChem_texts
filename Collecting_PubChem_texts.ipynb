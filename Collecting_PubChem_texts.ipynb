{
 "cells": [
  {
   "cell_type": "markdown",
   "id": "1d183c9b-c03f-4c63-aa49-e5d72b5ceb41",
   "metadata": {},
   "source": [
    "# Getting the list of compounds used in JUMP CP effort"
   ]
  },
  {
   "cell_type": "code",
   "execution_count": 1,
   "id": "d38da9d5-c3fb-4999-8e2e-2e617e5c1da9",
   "metadata": {},
   "outputs": [],
   "source": [
    "import pandas as pd"
   ]
  },
  {
   "cell_type": "markdown",
   "id": "1e4d4f47-4b10-41ab-8bdb-cd1aa3e4f882",
   "metadata": {},
   "source": [
    "InChI keys of compounds from jump-cell painting dataset (https://github.com/jump-cellpainting/datasets)"
   ]
  },
  {
   "cell_type": "code",
   "execution_count": 2,
   "id": "dda2fa9f-ea3b-401e-b65a-bfc23357e145",
   "metadata": {},
   "outputs": [
    {
     "data": {
      "text/plain": [
       "(116753, 3)"
      ]
     },
     "execution_count": 2,
     "metadata": {},
     "output_type": "execute_result"
    }
   ],
   "source": [
    "jump_cp_inchlkey = pd.read_csv('./compound.csv')\n",
    "jump_cp_inchlkey.shape"
   ]
  },
  {
   "cell_type": "code",
   "execution_count": 3,
   "id": "7c8908cc-02c1-456e-a008-10f996412c61",
   "metadata": {},
   "outputs": [
    {
     "data": {
      "text/html": [
       "<div>\n",
       "<style scoped>\n",
       "    .dataframe tbody tr th:only-of-type {\n",
       "        vertical-align: middle;\n",
       "    }\n",
       "\n",
       "    .dataframe tbody tr th {\n",
       "        vertical-align: top;\n",
       "    }\n",
       "\n",
       "    .dataframe thead th {\n",
       "        text-align: right;\n",
       "    }\n",
       "</style>\n",
       "<table border=\"1\" class=\"dataframe\">\n",
       "  <thead>\n",
       "    <tr style=\"text-align: right;\">\n",
       "      <th></th>\n",
       "      <th>Metadata_JCP2022</th>\n",
       "      <th>Metadata_InChIKey</th>\n",
       "      <th>Metadata_InChI</th>\n",
       "    </tr>\n",
       "  </thead>\n",
       "  <tbody>\n",
       "    <tr>\n",
       "      <th>0</th>\n",
       "      <td>JCP2022_000001</td>\n",
       "      <td>AAAHWCWPZPSPIW-UHFFFAOYSA-N</td>\n",
       "      <td>InChI=1S/C25H31N5O2/c1-4-23-26-14-16-30(23)24-...</td>\n",
       "    </tr>\n",
       "    <tr>\n",
       "      <th>1</th>\n",
       "      <td>JCP2022_000002</td>\n",
       "      <td>AAAJHRMBUHXWLD-UHFFFAOYSA-N</td>\n",
       "      <td>InChI=1S/C11H13ClN2O/c12-10-4-2-9(3-5-10)8-14-...</td>\n",
       "    </tr>\n",
       "    <tr>\n",
       "      <th>2</th>\n",
       "      <td>JCP2022_000003</td>\n",
       "      <td>AAALVYBICLMAMA-UHFFFAOYSA-N</td>\n",
       "      <td>InChI=1S/C20H15N3O2/c24-19-15-11-17(21-13-7-3-...</td>\n",
       "    </tr>\n",
       "    <tr>\n",
       "      <th>3</th>\n",
       "      <td>JCP2022_000004</td>\n",
       "      <td>AAANUZMCJQUYNX-UHFFFAOYSA-N</td>\n",
       "      <td>InChI=1S/C13H22N4O2S/c1-2-7-16-13(5-6-15-16)20...</td>\n",
       "    </tr>\n",
       "    <tr>\n",
       "      <th>4</th>\n",
       "      <td>JCP2022_000005</td>\n",
       "      <td>AAAQFGUYHFJNHI-UHFFFAOYSA-N</td>\n",
       "      <td>InChI=1S/C22H22ClN5O2/c1-4-24-20(29)12-18-22-2...</td>\n",
       "    </tr>\n",
       "  </tbody>\n",
       "</table>\n",
       "</div>"
      ],
      "text/plain": [
       "  Metadata_JCP2022            Metadata_InChIKey  \\\n",
       "0   JCP2022_000001  AAAHWCWPZPSPIW-UHFFFAOYSA-N   \n",
       "1   JCP2022_000002  AAAJHRMBUHXWLD-UHFFFAOYSA-N   \n",
       "2   JCP2022_000003  AAALVYBICLMAMA-UHFFFAOYSA-N   \n",
       "3   JCP2022_000004  AAANUZMCJQUYNX-UHFFFAOYSA-N   \n",
       "4   JCP2022_000005  AAAQFGUYHFJNHI-UHFFFAOYSA-N   \n",
       "\n",
       "                                      Metadata_InChI  \n",
       "0  InChI=1S/C25H31N5O2/c1-4-23-26-14-16-30(23)24-...  \n",
       "1  InChI=1S/C11H13ClN2O/c12-10-4-2-9(3-5-10)8-14-...  \n",
       "2  InChI=1S/C20H15N3O2/c24-19-15-11-17(21-13-7-3-...  \n",
       "3  InChI=1S/C13H22N4O2S/c1-2-7-16-13(5-6-15-16)20...  \n",
       "4  InChI=1S/C22H22ClN5O2/c1-4-24-20(29)12-18-22-2...  "
      ]
     },
     "execution_count": 3,
     "metadata": {},
     "output_type": "execute_result"
    }
   ],
   "source": [
    "jump_cp_inchlkey.head()"
   ]
  },
  {
   "cell_type": "markdown",
   "id": "856ebf43-c086-40d5-860e-90c88b99ff43",
   "metadata": {},
   "source": [
    "Converting InChI keys to PubChem Compound IDs (https://pubchem.ncbi.nlm.nih.gov/idexchange/idexchange.cgi)"
   ]
  },
  {
   "cell_type": "code",
   "execution_count": 4,
   "id": "dcacf607-27f7-43d9-8bb0-f98217bf6d0b",
   "metadata": {},
   "outputs": [],
   "source": [
    "cids = pd.read_csv('./jump_cell_painting_cids.csv', index_col = 0)"
   ]
  },
  {
   "cell_type": "code",
   "execution_count": 5,
   "id": "18371428-92d8-4590-86bb-4f8d35614972",
   "metadata": {},
   "outputs": [
    {
     "data": {
      "text/plain": [
       "(107332, 1)"
      ]
     },
     "execution_count": 5,
     "metadata": {},
     "output_type": "execute_result"
    }
   ],
   "source": [
    "cids.shape"
   ]
  },
  {
   "cell_type": "code",
   "execution_count": 6,
   "id": "7d49ef62-a954-4214-800f-9d4a4d3b7808",
   "metadata": {},
   "outputs": [
    {
     "data": {
      "text/html": [
       "<div>\n",
       "<style scoped>\n",
       "    .dataframe tbody tr th:only-of-type {\n",
       "        vertical-align: middle;\n",
       "    }\n",
       "\n",
       "    .dataframe tbody tr th {\n",
       "        vertical-align: top;\n",
       "    }\n",
       "\n",
       "    .dataframe thead th {\n",
       "        text-align: right;\n",
       "    }\n",
       "</style>\n",
       "<table border=\"1\" class=\"dataframe\">\n",
       "  <thead>\n",
       "    <tr style=\"text-align: right;\">\n",
       "      <th></th>\n",
       "      <th>cid</th>\n",
       "    </tr>\n",
       "  </thead>\n",
       "  <tbody>\n",
       "    <tr>\n",
       "      <th>0</th>\n",
       "      <td>110094592</td>\n",
       "    </tr>\n",
       "    <tr>\n",
       "      <th>1</th>\n",
       "      <td>5076487</td>\n",
       "    </tr>\n",
       "    <tr>\n",
       "      <th>2</th>\n",
       "      <td>1697</td>\n",
       "    </tr>\n",
       "    <tr>\n",
       "      <th>3</th>\n",
       "      <td>52934829</td>\n",
       "    </tr>\n",
       "    <tr>\n",
       "      <th>4</th>\n",
       "      <td>72019641</td>\n",
       "    </tr>\n",
       "  </tbody>\n",
       "</table>\n",
       "</div>"
      ],
      "text/plain": [
       "         cid\n",
       "0  110094592\n",
       "1    5076487\n",
       "2       1697\n",
       "3   52934829\n",
       "4   72019641"
      ]
     },
     "execution_count": 6,
     "metadata": {},
     "output_type": "execute_result"
    }
   ],
   "source": [
    "cids.head()"
   ]
  },
  {
   "cell_type": "markdown",
   "id": "011bc70d-d4c4-4195-b505-ad0b84afb73a",
   "metadata": {},
   "source": [
    "# Collecting compound descriptions"
   ]
  },
  {
   "cell_type": "code",
   "execution_count": 5,
   "id": "313461f9-e01b-4a8c-978f-42965dc071ec",
   "metadata": {},
   "outputs": [],
   "source": [
    "import json\n",
    "import os\n",
    "import requests\n",
    "import urllib\n",
    "from urllib.request import urlopen\n",
    "from tqdm import tqdm_notebook\n",
    "from tqdm import tqdm\n",
    "#from fake_useragent import UserAgent\n",
    "#from bs4 import BeautifulSoup\n",
    "import time\n",
    "import shutup; shutup.please()"
   ]
  },
  {
   "cell_type": "code",
   "execution_count": 17,
   "id": "8f720234-f0a6-4ecc-8f2e-4e58854950b6",
   "metadata": {},
   "outputs": [
    {
     "data": {
      "application/vnd.jupyter.widget-view+json": {
       "model_id": "a3bf8c23096246b68b16847ce519e0fd",
       "version_major": 2,
       "version_minor": 0
      },
      "text/plain": [
       "  0%|          | 0/107332 [00:00<?, ?it/s]"
      ]
     },
     "metadata": {},
     "output_type": "display_data"
    }
   ],
   "source": [
    "data = []\n",
    "for i in tqdm_notebook(range(cids.shape[0])):\n",
    "    try:\n",
    "        CID = str(cids.iloc[i, 0])\n",
    "        page_link = 'https://pubchem.ncbi.nlm.nih.gov/rest/pug/compound/cid/' + CID + '/description/JSON'\n",
    "        json_url = urlopen(page_link)\n",
    "        json_data = json.loads(json_url.read())\n",
    "        if 'InformationList' in json_data and 'Information' in json_data['InformationList']:\n",
    "            for info in json_data['InformationList']['Information']:\n",
    "                data.append({\n",
    "                    'CID': CID,\n",
    "                    'Description': info.get('Description', None)\n",
    "                })\n",
    "        #time.sleep(1)\n",
    "    except:\n",
    "        continue"
   ]
  },
  {
   "cell_type": "code",
   "execution_count": 18,
   "id": "da15c998-bf57-4b6c-b863-c74761bad77b",
   "metadata": {},
   "outputs": [
    {
     "data": {
      "text/plain": [
       "(4094, 2)"
      ]
     },
     "execution_count": 18,
     "metadata": {},
     "output_type": "execute_result"
    }
   ],
   "source": [
    "descriptions = pd.DataFrame(data).dropna(subset = 'Description').reset_index(drop=True)\n",
    "descriptions.shape"
   ]
  },
  {
   "cell_type": "code",
   "execution_count": 19,
   "id": "f93fd8cc-78e8-4471-961e-abd35896b9b2",
   "metadata": {},
   "outputs": [
    {
     "data": {
      "text/html": [
       "<div>\n",
       "<style scoped>\n",
       "    .dataframe tbody tr th:only-of-type {\n",
       "        vertical-align: middle;\n",
       "    }\n",
       "\n",
       "    .dataframe tbody tr th {\n",
       "        vertical-align: top;\n",
       "    }\n",
       "\n",
       "    .dataframe thead th {\n",
       "        text-align: right;\n",
       "    }\n",
       "</style>\n",
       "<table border=\"1\" class=\"dataframe\">\n",
       "  <thead>\n",
       "    <tr style=\"text-align: right;\">\n",
       "      <th></th>\n",
       "      <th>CID</th>\n",
       "      <th>Description</th>\n",
       "    </tr>\n",
       "  </thead>\n",
       "  <tbody>\n",
       "    <tr>\n",
       "      <th>0</th>\n",
       "      <td>1697</td>\n",
       "      <td>4,5-dianilinophthalimide is phthalimide substi...</td>\n",
       "    </tr>\n",
       "    <tr>\n",
       "      <th>1</th>\n",
       "      <td>755673</td>\n",
       "      <td>7-hydroxy-2,3,4,5-tetrahydrobenzofuro[2,3-c]az...</td>\n",
       "    </tr>\n",
       "    <tr>\n",
       "      <th>2</th>\n",
       "      <td>15160711</td>\n",
       "      <td>Ovalitenin B is a butanone.</td>\n",
       "    </tr>\n",
       "    <tr>\n",
       "      <th>3</th>\n",
       "      <td>176870</td>\n",
       "      <td>Erlotinib is a quinazoline compound having a (...</td>\n",
       "    </tr>\n",
       "    <tr>\n",
       "      <th>4</th>\n",
       "      <td>656344</td>\n",
       "      <td>2-[[5-(4-methylphenyl)-1,3,4-oxadiazol-2-yl]th...</td>\n",
       "    </tr>\n",
       "  </tbody>\n",
       "</table>\n",
       "</div>"
      ],
      "text/plain": [
       "        CID                                        Description\n",
       "0      1697  4,5-dianilinophthalimide is phthalimide substi...\n",
       "1    755673  7-hydroxy-2,3,4,5-tetrahydrobenzofuro[2,3-c]az...\n",
       "2  15160711                        Ovalitenin B is a butanone.\n",
       "3    176870  Erlotinib is a quinazoline compound having a (...\n",
       "4    656344  2-[[5-(4-methylphenyl)-1,3,4-oxadiazol-2-yl]th..."
      ]
     },
     "execution_count": 19,
     "metadata": {},
     "output_type": "execute_result"
    }
   ],
   "source": [
    "descriptions.head()"
   ]
  },
  {
   "cell_type": "code",
   "execution_count": 11,
   "id": "3e64d06c-3aef-4e0a-9676-71cc30b92d27",
   "metadata": {},
   "outputs": [],
   "source": [
    "descriptions.to_csv('./cmpd_descriptions.csv')"
   ]
  },
  {
   "cell_type": "markdown",
   "id": "897569fe-eb42-43c8-a4fa-ef4054322191",
   "metadata": {},
   "source": [
    "# Collecting pharmacology data"
   ]
  },
  {
   "cell_type": "code",
   "execution_count": 34,
   "id": "fc88c50a-0523-4e16-9767-f352fd0dac77",
   "metadata": {},
   "outputs": [
    {
     "data": {
      "application/vnd.jupyter.widget-view+json": {
       "model_id": "db37790d33a44fe3bafe8892a96f9435",
       "version_major": 2,
       "version_minor": 0
      },
      "text/plain": [
       "  0%|          | 0/107332 [00:00<?, ?it/s]"
      ]
     },
     "metadata": {},
     "output_type": "display_data"
    }
   ],
   "source": [
    "data = []\n",
    "for i in tqdm_notebook(range(cids.shape[0])):\n",
    "    try:\n",
    "        CID = str(cids.iloc[i, 0])\n",
    "        page_link = 'https://pubchem.ncbi.nlm.nih.gov/rest/pug_view/data/compound/' + CID + '/JSON/'\n",
    "        request = urllib.request.Request(page_link)\n",
    "        response = urllib.request.urlopen(request)\n",
    "        json_data = json.load(response, strict = False)\n",
    "        cmpd_section = json_data['Record']['Section']\n",
    "        for i in cmpd_section:\n",
    "            if i['TOCHeading'].startswith('Pharmacology and Biochemistry'):\n",
    "                pharm_data = i['Section']\n",
    "                string = json.dumps(pharm_data)\n",
    "                data.append({\n",
    "                    'CID': CID,\n",
    "                    'Pharmacology information': string\n",
    "                })\n",
    "    except:\n",
    "        continue"
   ]
  },
  {
   "cell_type": "code",
   "execution_count": 35,
   "id": "fef19f65-b694-4a04-a22f-37e9e547360f",
   "metadata": {},
   "outputs": [
    {
     "data": {
      "text/html": [
       "<div>\n",
       "<style scoped>\n",
       "    .dataframe tbody tr th:only-of-type {\n",
       "        vertical-align: middle;\n",
       "    }\n",
       "\n",
       "    .dataframe tbody tr th {\n",
       "        vertical-align: top;\n",
       "    }\n",
       "\n",
       "    .dataframe thead th {\n",
       "        text-align: right;\n",
       "    }\n",
       "</style>\n",
       "<table border=\"1\" class=\"dataframe\">\n",
       "  <thead>\n",
       "    <tr style=\"text-align: right;\">\n",
       "      <th></th>\n",
       "      <th>CID</th>\n",
       "      <th>Pharmacology information</th>\n",
       "    </tr>\n",
       "  </thead>\n",
       "  <tbody>\n",
       "    <tr>\n",
       "      <th>0</th>\n",
       "      <td>1697</td>\n",
       "      <td>[{\"TOCHeading\": \"MeSH Pharmacological Classifi...</td>\n",
       "    </tr>\n",
       "    <tr>\n",
       "      <th>1</th>\n",
       "      <td>31789</td>\n",
       "      <td>[{\"TOCHeading\": \"MeSH Pharmacological Classifi...</td>\n",
       "    </tr>\n",
       "    <tr>\n",
       "      <th>2</th>\n",
       "      <td>176870</td>\n",
       "      <td>[{\"TOCHeading\": \"MeSH Pharmacological Classifi...</td>\n",
       "    </tr>\n",
       "    <tr>\n",
       "      <th>3</th>\n",
       "      <td>226036</td>\n",
       "      <td>[{\"TOCHeading\": \"Human Metabolite Information\"...</td>\n",
       "    </tr>\n",
       "    <tr>\n",
       "      <th>4</th>\n",
       "      <td>2431</td>\n",
       "      <td>[{\"TOCHeading\": \"Pharmacodynamics\", \"Descripti...</td>\n",
       "    </tr>\n",
       "  </tbody>\n",
       "</table>\n",
       "</div>"
      ],
      "text/plain": [
       "      CID                           Pharmacology information\n",
       "0    1697  [{\"TOCHeading\": \"MeSH Pharmacological Classifi...\n",
       "1   31789  [{\"TOCHeading\": \"MeSH Pharmacological Classifi...\n",
       "2  176870  [{\"TOCHeading\": \"MeSH Pharmacological Classifi...\n",
       "3  226036  [{\"TOCHeading\": \"Human Metabolite Information\"...\n",
       "4    2431  [{\"TOCHeading\": \"Pharmacodynamics\", \"Descripti..."
      ]
     },
     "execution_count": 35,
     "metadata": {},
     "output_type": "execute_result"
    }
   ],
   "source": [
    "pharmacology = pd.DataFrame(data)\n",
    "pharmacology.head()"
   ]
  },
  {
   "cell_type": "code",
   "execution_count": 36,
   "id": "af9151bc-da6f-48a0-9447-fde4147f8ee2",
   "metadata": {},
   "outputs": [
    {
     "data": {
      "text/plain": [
       "(2868, 2)"
      ]
     },
     "execution_count": 36,
     "metadata": {},
     "output_type": "execute_result"
    }
   ],
   "source": [
    "pharmacology.shape"
   ]
  },
  {
   "cell_type": "code",
   "execution_count": 37,
   "id": "822707d6-4e2f-4eb8-bd1f-afdeb7235dbe",
   "metadata": {},
   "outputs": [],
   "source": [
    "pharmacology.to_csv('./cmpd_pharmacology_info.csv')"
   ]
  },
  {
   "cell_type": "markdown",
   "id": "94132030-798b-423b-9731-2aa4c2471a72",
   "metadata": {},
   "source": [
    "# Collecting scientific articles on compounds"
   ]
  },
  {
   "cell_type": "code",
   "execution_count": 6,
   "id": "7b6736a7-7f1e-431a-acb1-4f85c18b5486",
   "metadata": {},
   "outputs": [
    {
     "data": {
      "application/vnd.jupyter.widget-view+json": {
       "model_id": "4453c0aa2ff84138b816185261fce7ac",
       "version_major": 2,
       "version_minor": 0
      },
      "text/plain": [
       "  0%|          | 0/107332 [00:00<?, ?it/s]"
      ]
     },
     "metadata": {},
     "output_type": "display_data"
    }
   ],
   "source": [
    "data = []\n",
    "for i in tqdm_notebook(range(cids.shape[0])):\n",
    "    try:\n",
    "        CID = str(cids.iloc[i, 0])\n",
    "        page_link = 'https://pubchem.ncbi.nlm.nih.gov/rest/pug/compound/cid/' + CID + '/property/LiteratureCount/CSV'\n",
    "        cid_lit_count = pd.read_csv(page_link)\n",
    "        data.append(cid_lit_count)\n",
    "    except:\n",
    "        continue\n",
    "lit_count = pd.concat(data, ignore_index=True)"
   ]
  },
  {
   "cell_type": "code",
   "execution_count": 7,
   "id": "48163978-bb58-4b53-83b4-7ae608c12682",
   "metadata": {},
   "outputs": [
    {
     "data": {
      "text/html": [
       "<div>\n",
       "<style scoped>\n",
       "    .dataframe tbody tr th:only-of-type {\n",
       "        vertical-align: middle;\n",
       "    }\n",
       "\n",
       "    .dataframe tbody tr th {\n",
       "        vertical-align: top;\n",
       "    }\n",
       "\n",
       "    .dataframe thead th {\n",
       "        text-align: right;\n",
       "    }\n",
       "</style>\n",
       "<table border=\"1\" class=\"dataframe\">\n",
       "  <thead>\n",
       "    <tr style=\"text-align: right;\">\n",
       "      <th></th>\n",
       "      <th>CID</th>\n",
       "      <th>LiteratureCount</th>\n",
       "    </tr>\n",
       "  </thead>\n",
       "  <tbody>\n",
       "    <tr>\n",
       "      <th>0</th>\n",
       "      <td>110094592</td>\n",
       "      <td>0</td>\n",
       "    </tr>\n",
       "    <tr>\n",
       "      <th>1</th>\n",
       "      <td>5076487</td>\n",
       "      <td>0</td>\n",
       "    </tr>\n",
       "    <tr>\n",
       "      <th>2</th>\n",
       "      <td>1697</td>\n",
       "      <td>101</td>\n",
       "    </tr>\n",
       "    <tr>\n",
       "      <th>3</th>\n",
       "      <td>52934829</td>\n",
       "      <td>0</td>\n",
       "    </tr>\n",
       "    <tr>\n",
       "      <th>4</th>\n",
       "      <td>72019641</td>\n",
       "      <td>0</td>\n",
       "    </tr>\n",
       "  </tbody>\n",
       "</table>\n",
       "</div>"
      ],
      "text/plain": [
       "         CID  LiteratureCount\n",
       "0  110094592                0\n",
       "1    5076487                0\n",
       "2       1697              101\n",
       "3   52934829                0\n",
       "4   72019641                0"
      ]
     },
     "execution_count": 7,
     "metadata": {},
     "output_type": "execute_result"
    }
   ],
   "source": [
    "lit_count.head()"
   ]
  },
  {
   "cell_type": "code",
   "execution_count": 8,
   "id": "73efafd0-7624-4584-bfd1-183891f8db3c",
   "metadata": {},
   "outputs": [
    {
     "data": {
      "text/plain": [
       "(9347, 2)"
      ]
     },
     "execution_count": 8,
     "metadata": {},
     "output_type": "execute_result"
    }
   ],
   "source": [
    "lit_count = lit_count.loc[lit_count.LiteratureCount != 0]\n",
    "lit_count.shape"
   ]
  },
  {
   "cell_type": "code",
   "execution_count": 9,
   "id": "b44c18bd-f464-48cd-8516-4f11f249f12b",
   "metadata": {},
   "outputs": [],
   "source": [
    "lit_count.to_csv('./cmpd_lit_count.csv')"
   ]
  },
  {
   "cell_type": "code",
   "execution_count": 47,
   "id": "464f8b17-b172-4571-abf0-2dbe9f28d634",
   "metadata": {},
   "outputs": [
    {
     "data": {
      "application/vnd.jupyter.widget-view+json": {
       "model_id": "eb396ac9ed1c4d8ea19ebfc9414d9907",
       "version_major": 2,
       "version_minor": 0
      },
      "text/plain": [
       "  0%|          | 0/9347 [00:00<?, ?it/s]"
      ]
     },
     "metadata": {},
     "output_type": "display_data"
    },
    {
     "data": {
      "text/plain": [
       "(10000, 3)"
      ]
     },
     "execution_count": 47,
     "metadata": {},
     "output_type": "execute_result"
    }
   ],
   "source": [
    "articles = pd.DataFrame(columns = ['cid', 'title', 'abstract'])\n",
    "for i in tqdm_notebook(range(lit_count.shape[0])):\n",
    "    try:\n",
    "        CID = str(lit_count.iloc[i, 0])\n",
    "        url = 'https://pubchem.ncbi.nlm.nih.gov/sdq/sdqagent.cgi?infmt=json&outfmt=json&query={%22download%22:%22*%22,%22collection%22:%22literature%22,%22order%22:[%22articlepubdate,desc%22],%22start%22:1,%22limit%22:10000000,%22downloadfilename%22:%22pubchem_cid_' + CID + '_literature%22,%22nullatbottom%22:1,%22where%22:{%22ands%22:[{%22cid%22:%22' + CID + '%22}]}}'\n",
    "        json_url = urlopen(url)\n",
    "        json_data = json.loads(json_url.read())\n",
    "        for index, paper in enumerate(json_data):\n",
    "            cid = CID\n",
    "            title = paper.get('articletitle')\n",
    "            abstract = paper.get('articleabstract')\n",
    "            articles.loc[index] = [cid, title, abstract]      \n",
    "    except:\n",
    "        continue\n",
    "articles.shape"
   ]
  },
  {
   "cell_type": "code",
   "execution_count": 48,
   "id": "a682313a-b668-427c-aaf9-d25d266a9880",
   "metadata": {},
   "outputs": [
    {
     "data": {
      "text/html": [
       "<div>\n",
       "<style scoped>\n",
       "    .dataframe tbody tr th:only-of-type {\n",
       "        vertical-align: middle;\n",
       "    }\n",
       "\n",
       "    .dataframe tbody tr th {\n",
       "        vertical-align: top;\n",
       "    }\n",
       "\n",
       "    .dataframe thead th {\n",
       "        text-align: right;\n",
       "    }\n",
       "</style>\n",
       "<table border=\"1\" class=\"dataframe\">\n",
       "  <thead>\n",
       "    <tr style=\"text-align: right;\">\n",
       "      <th></th>\n",
       "      <th>cid</th>\n",
       "      <th>title</th>\n",
       "      <th>abstract</th>\n",
       "    </tr>\n",
       "  </thead>\n",
       "  <tbody>\n",
       "    <tr>\n",
       "      <th>0</th>\n",
       "      <td>196968</td>\n",
       "      <td>H23 Antigen</td>\n",
       "      <td></td>\n",
       "    </tr>\n",
       "    <tr>\n",
       "      <th>1</th>\n",
       "      <td>196968</td>\n",
       "      <td>Serotonin receptors 5-HTR2A and 5-HTR2B are in...</td>\n",
       "      <td>BACKGROUND: Cigarette smoke plays an important...</td>\n",
       "    </tr>\n",
       "    <tr>\n",
       "      <th>2</th>\n",
       "      <td>196968</td>\n",
       "      <td>Serotonin-2B receptor antagonism increases the...</td>\n",
       "      <td>Previous research has implicated the serotonin...</td>\n",
       "    </tr>\n",
       "    <tr>\n",
       "      <th>3</th>\n",
       "      <td>196968</td>\n",
       "      <td>Roles of 5-HT2B Receptor in Pain</td>\n",
       "      <td></td>\n",
       "    </tr>\n",
       "    <tr>\n",
       "      <th>4</th>\n",
       "      <td>196968</td>\n",
       "      <td>Gene Structure, Expression, and 5-HT2B Recepto...</td>\n",
       "      <td></td>\n",
       "    </tr>\n",
       "  </tbody>\n",
       "</table>\n",
       "</div>"
      ],
      "text/plain": [
       "      cid                                              title  \\\n",
       "0  196968                                        H23 Antigen   \n",
       "1  196968  Serotonin receptors 5-HTR2A and 5-HTR2B are in...   \n",
       "2  196968  Serotonin-2B receptor antagonism increases the...   \n",
       "3  196968                   Roles of 5-HT2B Receptor in Pain   \n",
       "4  196968  Gene Structure, Expression, and 5-HT2B Recepto...   \n",
       "\n",
       "                                            abstract  \n",
       "0                                                     \n",
       "1  BACKGROUND: Cigarette smoke plays an important...  \n",
       "2  Previous research has implicated the serotonin...  \n",
       "3                                                     \n",
       "4                                                     "
      ]
     },
     "execution_count": 48,
     "metadata": {},
     "output_type": "execute_result"
    }
   ],
   "source": [
    "articles.head()"
   ]
  },
  {
   "cell_type": "code",
   "execution_count": 49,
   "id": "7172686f-f0a1-4897-83d4-38f2c3fe6cf0",
   "metadata": {},
   "outputs": [],
   "source": [
    "articles.to_csv('./cmpd_articles.csv')"
   ]
  },
  {
   "cell_type": "code",
   "execution_count": null,
   "id": "3b92b007-0e3a-448b-b355-2a68c562093d",
   "metadata": {},
   "outputs": [],
   "source": []
  },
  {
   "cell_type": "code",
   "execution_count": null,
   "id": "07bf27eb-b764-4cbc-b55c-a23f32afe249",
   "metadata": {},
   "outputs": [],
   "source": []
  },
  {
   "cell_type": "code",
   "execution_count": null,
   "id": "8e5bf36b-b48f-49b0-9af4-6e1a2768886b",
   "metadata": {},
   "outputs": [],
   "source": []
  }
 ],
 "metadata": {
  "kernelspec": {
   "display_name": "Python 3 (ipykernel)",
   "language": "python",
   "name": "python3"
  },
  "language_info": {
   "codemirror_mode": {
    "name": "ipython",
    "version": 3
   },
   "file_extension": ".py",
   "mimetype": "text/x-python",
   "name": "python",
   "nbconvert_exporter": "python",
   "pygments_lexer": "ipython3",
   "version": "3.10.12"
  }
 },
 "nbformat": 4,
 "nbformat_minor": 5
}
